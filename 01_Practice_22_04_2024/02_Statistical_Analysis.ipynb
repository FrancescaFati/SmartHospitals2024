{
  "metadata": {
    "kernelspec": {
      "language": "python",
      "display_name": "Python 3",
      "name": "python3"
    },
    "language_info": {
      "pygments_lexer": "ipython3",
      "nbconvert_exporter": "python",
      "version": "3.6.4",
      "file_extension": ".py",
      "codemirror_mode": {
        "name": "ipython",
        "version": 3
      },
      "name": "python",
      "mimetype": "text/x-python"
    },
    "colab": {
      "provenance": []
    }
  },
  "nbformat_minor": 0,
  "nbformat": 4,
  "cells": [
    {
      "cell_type": "markdown",
      "source": [
        "# <b>1 <span style='color:#0386f7de'>|</span> Introduction</b>"
      ],
      "metadata": {
        "id": "UPJz4RaZnnMU"
      }
    },
    {
      "cell_type": "markdown",
      "source": [
        "What topic does the dataset cover?\n",
        "According to the CDC, heart disease is one of the leading causes of death for people of most races in the US (African Americans, American Indians and Alaska Natives, and white people). About half of all Americans (47%) have at least 1 of 3 key risk factors for heart disease: high blood pressure, high cholesterol, and smoking. Other key indicator include diabetic status, obesity (high BMI), not getting enough physical activity or drinking too much alcohol. Detecting and preventing the factors that have the greatest impact on heart disease is very important in healthcare. Computational developments, in turn, allow the application of machine learning methods to detect \"patterns\" from the data that can predict a patient's condition.\n",
        "\n",
        "\n",
        "## Explanation of the variables of the dataset\n",
        "1. HeartDisease : Respondents that have ever reported having coronary heart disease (CHD) or myocardial infarction (MI).\n",
        "2. BMI : Body Mass Index (BMI).\n",
        "3. Smoking : Have you smoked at least 100 cigarettes in your entire life? ( The answer Yes or No ).\n",
        "4. AlcoholDrinking : Heavy drinkers (adult men having more than 14 drinks per week and adult women having more than 7 drinks per week\n",
        "5. Stroke : (Ever told) (you had) a stroke?\n",
        "6. PhysicalHealth : Now thinking about your physical health, which includes physical illness and injury, for how many days during the past 30 days was your physical health not good? (0-30 days).\n",
        "7. MentalHealth : Thinking about your mental health, for how many days during the past 30 days was your mental health not good? (0-30 days).\n",
        "8. DiffWalking : Do you have serious difficulty walking or climbing stairs?\n",
        "9. Sex : Are you male or female?\n",
        "10. AgeCategory: Fourteen-level age category.\n",
        "11. Race : Imputed race/ethnicity value.\n",
        "12. Diabetic : (Ever told) (you had) diabetes?\n",
        "13. PhysicalActivity : Adults who reported doing physical activity or exercise during the past 30 days other than their regular job.\n",
        "14. GenHealth : Would you say that in general your health is...\n",
        "15. SleepTime : On average, how many hours of sleep do you get in a 24-hour period?\n",
        "16. Asthma : (Ever told) (you had) asthma?\n",
        "17. KidneyDisease : Not including kidney stones, bladder infection or incontinence, were you ever told you had kidney disease?\n",
        "18. SkinCancer : (Ever told) (you had) skin cancer?\n",
        "\n",
        "\n",
        "\n",
        "\n",
        "\n",
        "\n",
        "\n",
        "\n",
        "\n"
      ],
      "metadata": {
        "id": "YcoerhZqnnMW"
      }
    },
    {
      "cell_type": "markdown",
      "source": [
        "# <b>2 <span style='color:#0386f7de'>|</span> Importing libraries</b>"
      ],
      "metadata": {
        "id": "jwCu4A_hnnMX"
      }
    },
    {
      "cell_type": "code",
      "source": [
        "import pandas as pd\n",
        "import numpy as np\n",
        "\n",
        "\n",
        "%matplotlib inline\n",
        "import seaborn as sns\n",
        "import matplotlib.pyplot as plt"
      ],
      "metadata": {
        "execution": {
          "iopub.status.busy": "2022-06-03T12:23:19.718082Z",
          "iopub.execute_input": "2022-06-03T12:23:19.718931Z",
          "iopub.status.idle": "2022-06-03T12:23:19.730377Z",
          "shell.execute_reply.started": "2022-06-03T12:23:19.718863Z",
          "shell.execute_reply": "2022-06-03T12:23:19.729868Z"
        },
        "trusted": true,
        "id": "ui2_2eNVnnMX"
      },
      "execution_count": null,
      "outputs": []
    },
    {
      "cell_type": "markdown",
      "source": [
        "# <b>3 <span style='color:#0386f7de'>|</span> Reading the dataset</b>"
      ],
      "metadata": {
        "id": "tl45dGr4nnMX"
      }
    },
    {
      "cell_type": "code",
      "source": [
        "df = pd.read_csv('https://raw.githubusercontent.com/FrancescaFati/SmartHospitals2024/main/heart_2020_cleaned.csv')\n",
        "df.head()"
      ],
      "metadata": {
        "execution": {
          "iopub.status.busy": "2022-06-03T12:23:19.788481Z",
          "iopub.execute_input": "2022-06-03T12:23:19.789163Z",
          "iopub.status.idle": "2022-06-03T12:23:20.518276Z",
          "shell.execute_reply.started": "2022-06-03T12:23:19.789124Z",
          "shell.execute_reply": "2022-06-03T12:23:20.517628Z"
        },
        "trusted": true,
        "id": "FTYPK3zgnnMY"
      },
      "execution_count": null,
      "outputs": []
    },
    {
      "cell_type": "code",
      "source": [
        "df.shape"
      ],
      "metadata": {
        "id": "BUzKTN6G41Fy"
      },
      "execution_count": null,
      "outputs": []
    },
    {
      "cell_type": "code",
      "source": [
        "df.info()"
      ],
      "metadata": {
        "id": "1e1nCSO443BO"
      },
      "execution_count": null,
      "outputs": []
    },
    {
      "cell_type": "code",
      "source": [
        "df.nunique()"
      ],
      "metadata": {
        "id": "JSEnyr-R5LKA"
      },
      "execution_count": null,
      "outputs": []
    },
    {
      "cell_type": "code",
      "source": [
        "df['Diabetic'].value_counts()"
      ],
      "metadata": {
        "id": "_MEd_07IBzcB"
      },
      "execution_count": null,
      "outputs": []
    },
    {
      "cell_type": "code",
      "source": [
        "df['GenHealth'].value_counts()"
      ],
      "metadata": {
        "id": "eJ28QIN_BfJM"
      },
      "execution_count": null,
      "outputs": []
    },
    {
      "cell_type": "markdown",
      "source": [
        "# <b>4 <span style='color:#0386f7de'>|</span> Statistical Analysis of Numerical Features</b>"
      ],
      "metadata": {
        "id": "0TXFTrekJOw-"
      }
    },
    {
      "cell_type": "code",
      "source": [
        "df.describe().T.style.set_properties(**{'background-color': 'grey','color': 'white','border-color': 'white'})"
      ],
      "metadata": {
        "execution": {
          "iopub.status.busy": "2022-06-03T12:23:20.519629Z",
          "iopub.execute_input": "2022-06-03T12:23:20.519972Z",
          "iopub.status.idle": "2022-06-03T12:23:20.590719Z",
          "shell.execute_reply.started": "2022-06-03T12:23:20.519944Z",
          "shell.execute_reply": "2022-06-03T12:23:20.589911Z"
        },
        "trusted": true,
        "id": "uUm8tVT7nnMY"
      },
      "execution_count": null,
      "outputs": []
    },
    {
      "cell_type": "code",
      "source": [
        "# Select only numeric columns from df\n",
        "numeric_df = df.select_dtypes(include=[np.number])\n",
        "\n",
        "# Set up the matplotlib figure\n",
        "plt.figure(figsize=(12, 10))\n",
        "\n",
        "# Loop through the numeric columns and create a subplot for each column\n",
        "for i, column in enumerate(numeric_df.columns):\n",
        "    plt.subplot((len(numeric_df.columns) + 1) // 2, 2, i + 1)\n",
        "    # Creating the histogram with a specified bin width and enabling KDE\n",
        "    sns.histplot(numeric_df[column], kde=True, bins=30)  # Adjust 'bins' based on your preference\n",
        "\n",
        "    # Add grid\n",
        "    plt.grid(True)\n",
        "\n",
        "    # Optionally calculate mean and plot it\n",
        "    mean_val = numeric_df[column].mean()\n",
        "    plt.axvline(mean_val, color='red', linestyle='dashed', linewidth=1)\n",
        "    plt.text(mean_val, plt.gca().get_ylim()[1] * 0.9, f'Mean: {mean_val:.2f}', color='red', rotation=0, horizontalalignment='right')\n",
        "\n",
        "    plt.title(f'Distribution of {column}')\n",
        "    plt.xlabel(column)\n",
        "    plt.ylabel('Frequency')\n",
        "\n",
        "# Adjust layout to avoid overlap and display the plot\n",
        "plt.tight_layout()\n",
        "plt.show()\n"
      ],
      "metadata": {
        "id": "T-pOEURIIfbN"
      },
      "execution_count": null,
      "outputs": []
    }
  ]
}