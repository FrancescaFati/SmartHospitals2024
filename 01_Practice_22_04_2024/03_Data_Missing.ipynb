{
  "metadata": {
    "kernelspec": {
      "language": "python",
      "display_name": "Python 3",
      "name": "python3"
    },
    "language_info": {
      "pygments_lexer": "ipython3",
      "nbconvert_exporter": "python",
      "version": "3.6.4",
      "file_extension": ".py",
      "codemirror_mode": {
        "name": "ipython",
        "version": 3
      },
      "name": "python",
      "mimetype": "text/x-python"
    },
    "colab": {
      "provenance": []
    }
  },
  "nbformat_minor": 0,
  "nbformat": 4,
  "cells": [
    {
      "cell_type": "markdown",
      "source": [
        "# <b>1 <span style='color:#0386f7de'>|</span> Introduction</b>"
      ],
      "metadata": {
        "id": "UPJz4RaZnnMU"
      }
    },
    {
      "cell_type": "markdown",
      "source": [
        "##What topic does the dataset cover?\n",
        "According to the CDC, heart disease is one of the leading causes of death for people of most races in the US (African Americans, American Indians and Alaska Natives, and white people). About half of all Americans (47%) have at least 1 of 3 key risk factors for heart disease: high blood pressure, high cholesterol, and smoking. Other key indicator include diabetic status, obesity (high BMI), not getting enough physical activity or drinking too much alcohol. Detecting and preventing the factors that have the greatest impact on heart disease is very important in healthcare. Computational developments, in turn, allow the application of machine learning methods to detect \"patterns\" from the data that can predict a patient's condition.\n",
        "\n",
        "\n",
        "## Explanation of the variables of the dataset\n",
        "1. HeartDisease : Respondents that have ever reported having coronary heart disease (CHD) or myocardial infarction (MI).\n",
        "2. BMI : Body Mass Index (BMI).\n",
        "3. Smoking : Have you smoked at least 100 cigarettes in your entire life? ( The answer Yes or No ).\n",
        "4. AlcoholDrinking : Heavy drinkers (adult men having more than 14 drinks per week and adult women having more than 7 drinks per week\n",
        "5. Stroke : (Ever told) (you had) a stroke?\n",
        "6. PhysicalHealth : Now thinking about your physical health, which includes physical illness and injury, for how many days during the past 30 days was your physical health not good? (0-30 days).\n",
        "7. MentalHealth : Thinking about your mental health, for how many days during the past 30 days was your mental health not good? (0-30 days).\n",
        "8. DiffWalking : Do you have serious difficulty walking or climbing stairs?\n",
        "9. Sex : Are you male or female?\n",
        "10. AgeCategory: Fourteen-level age category.\n",
        "11. Race : Imputed race/ethnicity value.\n",
        "12. Diabetic : (Ever told) (you had) diabetes?\n",
        "13. PhysicalActivity : Adults who reported doing physical activity or exercise during the past 30 days other than their regular job.\n",
        "14. GenHealth : Would you say that in general your health is...\n",
        "15. SleepTime : On average, how many hours of sleep do you get in a 24-hour period?\n",
        "16. Asthma : (Ever told) (you had) asthma?\n",
        "17. KidneyDisease : Not including kidney stones, bladder infection or incontinence, were you ever told you had kidney disease?\n",
        "18. SkinCancer : (Ever told) (you had) skin cancer?\n",
        "\n",
        "\n",
        "\n",
        "\n",
        "\n",
        "\n",
        "\n",
        "\n",
        "\n"
      ],
      "metadata": {
        "id": "YcoerhZqnnMW"
      }
    },
    {
      "cell_type": "markdown",
      "source": [
        "# <b>2 <span style='color:#0386f7de'>|</span> Importing libraries</b>"
      ],
      "metadata": {
        "id": "jwCu4A_hnnMX"
      }
    },
    {
      "cell_type": "code",
      "source": [
        "import pandas as pd\n",
        "import numpy as np\n",
        "\n",
        "\n",
        "%matplotlib inline\n",
        "import seaborn as sns\n",
        "import matplotlib.pyplot as plt\n"
      ],
      "metadata": {
        "execution": {
          "iopub.status.busy": "2022-06-03T12:23:19.718082Z",
          "iopub.execute_input": "2022-06-03T12:23:19.718931Z",
          "iopub.status.idle": "2022-06-03T12:23:19.730377Z",
          "shell.execute_reply.started": "2022-06-03T12:23:19.718863Z",
          "shell.execute_reply": "2022-06-03T12:23:19.729868Z"
        },
        "trusted": true,
        "id": "ui2_2eNVnnMX"
      },
      "execution_count": null,
      "outputs": []
    },
    {
      "cell_type": "markdown",
      "source": [
        "# <b>3 <span style='color:#0386f7de'>|</span> Reading the dataset</b>"
      ],
      "metadata": {
        "id": "tl45dGr4nnMX"
      }
    },
    {
      "cell_type": "code",
      "source": [
        "df = pd.read_csv('https://raw.githubusercontent.com/FrancescaFati/SmartHospitals2024/main/heart_2020_cleaned.csv')\n",
        "nan_percentage = 0.1\n",
        "nan_mask = np.random.rand(*df.shape) < nan_percentage\n",
        "df[nan_mask] = np.nan\n",
        "\n",
        "df.head(15)"
      ],
      "metadata": {
        "execution": {
          "iopub.status.busy": "2022-06-03T12:23:19.788481Z",
          "iopub.execute_input": "2022-06-03T12:23:19.789163Z",
          "iopub.status.idle": "2022-06-03T12:23:20.518276Z",
          "shell.execute_reply.started": "2022-06-03T12:23:19.789124Z",
          "shell.execute_reply": "2022-06-03T12:23:20.517628Z"
        },
        "trusted": true,
        "id": "FTYPK3zgnnMY"
      },
      "execution_count": null,
      "outputs": []
    },
    {
      "cell_type": "markdown",
      "source": [
        "# <b>4 <span style='color:#0386f7de'>|</span> Missing Data </b>"
      ],
      "metadata": {
        "id": "GsSs3D1InnMY"
      }
    },
    {
      "cell_type": "code",
      "source": [
        "df.shape"
      ],
      "metadata": {
        "id": "fpLKiJ2NaNde"
      },
      "execution_count": null,
      "outputs": []
    },
    {
      "cell_type": "code",
      "source": [
        "total_nans = df.isna().sum().sum()\n",
        "print(\"Total number of NaNs in the DataFrame:\", total_nans)"
      ],
      "metadata": {
        "id": "zNr0YW_zXjPp"
      },
      "execution_count": null,
      "outputs": []
    },
    {
      "cell_type": "code",
      "source": [
        "nans_per_column = df.isna().sum()\n",
        "print(\"Number of NaNs per column:\\n\", nans_per_column)"
      ],
      "metadata": {
        "id": "feFfDd4qYQip"
      },
      "execution_count": null,
      "outputs": []
    },
    {
      "cell_type": "code",
      "source": [
        "nan_percentage_per_column = (df.isna().sum() / len(df)) * 100\n",
        "print(\"Percentage of NaNs per column:\\n\", round(nan_percentage_per_column,2))"
      ],
      "metadata": {
        "id": "yY4WIwnxYOjE"
      },
      "execution_count": null,
      "outputs": []
    },
    {
      "cell_type": "code",
      "source": [
        "plt.figure(figsize=(10, 6))\n",
        "sns.heatmap(df.isna(), cbar=False, cmap='viridis')\n",
        "plt.title('Visualization of NaN Values in DataFrame')\n",
        "plt.show()\n"
      ],
      "metadata": {
        "id": "OHFVqOChX0fL"
      },
      "execution_count": null,
      "outputs": []
    },
    {
      "cell_type": "markdown",
      "source": [
        "# <b>6.1 <span style='color:#0386f7de'>|</span> Deletion Methods </b>"
      ],
      "metadata": {
        "id": "wTnWgWdKKqk9"
      }
    },
    {
      "cell_type": "code",
      "source": [
        "df.shape"
      ],
      "metadata": {
        "id": "LUyQAzo0Ynb4"
      },
      "execution_count": null,
      "outputs": []
    },
    {
      "cell_type": "code",
      "source": [
        "df.head(10)"
      ],
      "metadata": {
        "id": "M97DVBgR3FO1"
      },
      "execution_count": null,
      "outputs": []
    },
    {
      "cell_type": "code",
      "source": [
        "# Drop All Rows with Any NaN Values\n",
        "df_dropped_rows_any = df.dropna()\n",
        "df_dropped_rows_any.shape"
      ],
      "metadata": {
        "id": "VwDStYYhKUei"
      },
      "execution_count": null,
      "outputs": []
    },
    {
      "cell_type": "code",
      "source": [
        "df_dropped_rows_any.head(10)"
      ],
      "metadata": {
        "id": "2mXde8hq31gy"
      },
      "execution_count": null,
      "outputs": []
    },
    {
      "cell_type": "code",
      "source": [
        "# Drop Rows Where All Values are NaN\n",
        "df_dropped_rows_all = df.dropna(how='all')\n",
        "df_dropped_rows_all.shape"
      ],
      "metadata": {
        "id": "w3PN8-4qLnIp"
      },
      "execution_count": null,
      "outputs": []
    },
    {
      "cell_type": "code",
      "source": [
        "df_dropped_rows_all.head(10)"
      ],
      "metadata": {
        "id": "0hXijh1e37PT"
      },
      "execution_count": null,
      "outputs": []
    },
    {
      "cell_type": "code",
      "source": [
        "# Drop Rows Where All Values are NaN\n",
        "df = df.dropna(subset=['HeartDisease'])\n",
        "df.shape"
      ],
      "metadata": {
        "id": "jdlcovPqZZso"
      },
      "execution_count": null,
      "outputs": []
    },
    {
      "cell_type": "code",
      "source": [
        "df.head(10)"
      ],
      "metadata": {
        "id": "uVVrG-2Z39cV"
      },
      "execution_count": null,
      "outputs": []
    },
    {
      "cell_type": "code",
      "source": [
        "# Drop Columns with Any NaN Values\n",
        "df_dropped_columns_any = df.dropna(axis=1)\n",
        "df_dropped_columns_any.shape\n"
      ],
      "metadata": {
        "id": "7COLRLI6L0-I"
      },
      "execution_count": null,
      "outputs": []
    },
    {
      "cell_type": "code",
      "source": [
        "df_dropped_columns_any.head(10)"
      ],
      "metadata": {
        "id": "NwzH-09H4Bka"
      },
      "execution_count": null,
      "outputs": []
    },
    {
      "cell_type": "code",
      "source": [
        "#  Drop Columns Where All Values are NaN\n",
        "df_dropped_columns_all = df.dropna(axis=1, how='all')\n",
        "df_dropped_columns_all.shape"
      ],
      "metadata": {
        "id": "ZUEEkAj0MJcj"
      },
      "execution_count": null,
      "outputs": []
    },
    {
      "cell_type": "code",
      "source": [
        "# Drop Rows or Columns with NaN Values Above a Certain Threshold\n",
        "\n",
        "# Drop rows if they have less than thresh non-NaN values\n",
        "df_dropped_thresh_rows = df.dropna(thresh=9)\n",
        "df_dropped_thresh_rows.shape\n"
      ],
      "metadata": {
        "id": "M0TpoVHlMbJB"
      },
      "execution_count": null,
      "outputs": []
    },
    {
      "cell_type": "code",
      "source": [
        "# Drop columns if they have less than thresh non-NaN values\n",
        "df_dropped_thresh_columns = df.dropna(axis=1, thresh=150000)\n",
        "df_dropped_thresh_columns.shape"
      ],
      "metadata": {
        "id": "p3tKVDNy4QBr"
      },
      "execution_count": null,
      "outputs": []
    },
    {
      "cell_type": "code",
      "source": [
        "# Drop specific columns by name:\n",
        "df_dropped_specific_columns = df.drop(columns=['KidneyDisease', 'Smoking'])\n",
        "df_dropped_specific_columns.shape"
      ],
      "metadata": {
        "id": "u5jgir0INDLD"
      },
      "execution_count": null,
      "outputs": []
    },
    {
      "cell_type": "markdown",
      "source": [],
      "metadata": {
        "id": "kotte7yx4rYD"
      }
    },
    {
      "cell_type": "markdown",
      "source": [
        "# <b>6.2 <span style='color:#0386f7de'>|</span> Imputation Methods </b>\n"
      ],
      "metadata": {
        "id": "C13APYcnO44P"
      }
    },
    {
      "cell_type": "markdown",
      "source": [
        "# <b>6.2.1 <span style='color:#0386f7de'>|</span> Replacing Methods </b>"
      ],
      "metadata": {
        "id": "ve6wU6TfAA4S"
      }
    },
    {
      "cell_type": "code",
      "source": [
        "df.head()"
      ],
      "metadata": {
        "id": "KMvyvoo75Kr5"
      },
      "execution_count": null,
      "outputs": []
    },
    {
      "cell_type": "code",
      "source": [
        "# Foward Fill\n",
        "df_filled_ffill = df.fillna(method='ffill')\n",
        "df_filled_ffill.head(10)"
      ],
      "metadata": {
        "id": "ogq0JBomQTnA"
      },
      "execution_count": null,
      "outputs": []
    },
    {
      "cell_type": "code",
      "source": [
        "# Backward Fill\n",
        "df_filled_bfill = df.fillna(method='bfill')\n",
        "df_filled_bfill.head(10)"
      ],
      "metadata": {
        "id": "4bRGOzmxRAdW"
      },
      "execution_count": null,
      "outputs": []
    },
    {
      "cell_type": "code",
      "source": [
        "# Fill with Mean\n",
        "df_filled_mean = df\n",
        "# Select only numeric columns from df\n",
        "numeric_cols = df.select_dtypes(include=[np.number])\n",
        "\n",
        "# Calculate the mean of these numeric columns\n",
        "means = numeric_cols.mean()\n",
        "print(means)\n",
        "\n",
        "# Fill NaN values in the numeric columns with their respective means\n",
        "df_filled_mean[numeric_cols.columns] = numeric_cols.fillna(means)\n",
        "df_filled_mean.head(10)"
      ],
      "metadata": {
        "id": "CETd6_BVREEM"
      },
      "execution_count": null,
      "outputs": []
    },
    {
      "cell_type": "markdown",
      "source": [
        "# <b>6.2.2 <span style='color:#0386f7de'>|</span> Regression Methods </b>"
      ],
      "metadata": {
        "id": "b4dGuNsd7yy_"
      }
    },
    {
      "cell_type": "code",
      "source": [
        "df = pd.read_csv('https://raw.githubusercontent.com/FrancescaFati/SmartHospitals2024/main/heart_2020_cleaned.csv')\n",
        "nan_percentage = 0.1\n",
        "nan_mask = np.random.rand(*df.shape) < nan_percentage\n",
        "df[nan_mask] = np.nan\n",
        "\n",
        "df.head(20)"
      ],
      "metadata": {
        "id": "YfIptqem7hMx"
      },
      "execution_count": null,
      "outputs": []
    },
    {
      "cell_type": "code",
      "source": [
        "import pandas as pd\n",
        "from sklearn.linear_model import LinearRegression\n",
        "\n",
        "df = df.replace({\n",
        "    'Yes': 1, 'No': 0, 'Male': 1, 'Female': 0,\n",
        "    'No, borderline diabetes': 0, 'Yes (during pregnancy)': 1\n",
        "})\n",
        "\n",
        "# Simple Linear Regression for a column\n",
        "model = LinearRegression()\n",
        "# Filter to ensure all used data has no NaN values in both 'HeartDisease' and 'BMI'\n",
        "not_null_data = df.dropna(subset=['HeartDisease', 'BMI'])\n",
        "model.fit(not_null_data[['HeartDisease']], not_null_data[['BMI']])\n",
        "\n",
        "# Prepare for predictions by dropping rows with NaN in 'HeartDisease'\n",
        "mask = df['BMI'].isnull() & df['HeartDisease'].notnull()  # Ensure no NaN in HeartDisease for prediction\n",
        "# Only predict where BMI is NaN but HeartDisease is not NaN\n",
        "predicted_values = model.predict(df.loc[mask, ['HeartDisease']])\n",
        "df.loc[mask, 'BMI'] = predicted_values\n"
      ],
      "metadata": {
        "id": "5O0hg2MV-_0S"
      },
      "execution_count": null,
      "outputs": []
    },
    {
      "cell_type": "code",
      "source": [
        "df.head(20)"
      ],
      "metadata": {
        "id": "PZVivmcq7VKS"
      },
      "execution_count": null,
      "outputs": []
    }
  ]
}