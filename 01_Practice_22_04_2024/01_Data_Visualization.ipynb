{
  "metadata": {
    "kernelspec": {
      "language": "python",
      "display_name": "Python 3",
      "name": "python3"
    },
    "language_info": {
      "pygments_lexer": "ipython3",
      "nbconvert_exporter": "python",
      "version": "3.6.4",
      "file_extension": ".py",
      "codemirror_mode": {
        "name": "ipython",
        "version": 3
      },
      "name": "python",
      "mimetype": "text/x-python"
    },
    "colab": {
      "provenance": []
    }
  },
  "nbformat_minor": 0,
  "nbformat": 4,
  "cells": [
    {
      "cell_type": "markdown",
      "source": [
        "# <b>1 <span style='color:#0386f7de'>|</span> Introduction</b>"
      ],
      "metadata": {
        "id": "UPJz4RaZnnMU"
      }
    },
    {
      "cell_type": "markdown",
      "source": [
        "## What topic does the dataset cover?\n",
        "According to the CDC, heart disease is one of the leading causes of death for people of most races in the US (African Americans, American Indians and Alaska Natives, and white people). About half of all Americans (47%) have at least 1 of 3 key risk factors for heart disease: high blood pressure, high cholesterol, and smoking. Other key indicator include diabetic status, obesity (high BMI), not getting enough physical activity or drinking too much alcohol. Detecting and preventing the factors that have the greatest impact on heart disease is very important in healthcare. Computational developments, in turn, allow the application of machine learning methods to detect \"patterns\" from the data that can predict a patient's condition.\n",
        "\n",
        "\n",
        "## Explanation of the variables of the dataset\n",
        "1. HeartDisease : Respondents that have ever reported having coronary heart disease (CHD) or myocardial infarction (MI).\n",
        "2. BMI : Body Mass Index (BMI).\n",
        "3. Smoking : Have you smoked at least 100 cigarettes in your entire life? ( The answer Yes or No ).\n",
        "4. AlcoholDrinking : Heavy drinkers (adult men having more than 14 drinks per week and adult women having more than 7 drinks per week\n",
        "5. Stroke : (Ever told) (you had) a stroke?\n",
        "6. PhysicalHealth : Now thinking about your physical health, which includes physical illness and injury, for how many days during the past 30 days was your physical health not good? (0-30 days).\n",
        "7. MentalHealth : Thinking about your mental health, for how many days during the past 30 days was your mental health not good? (0-30 days).\n",
        "8. DiffWalking : Do you have serious difficulty walking or climbing stairs?\n",
        "9. Sex : Are you male or female?\n",
        "10. AgeCategory: Fourteen-level age category.\n",
        "11. Race : Imputed race/ethnicity value.\n",
        "12. Diabetic : (Ever told) (you had) diabetes?\n",
        "13. PhysicalActivity : Adults who reported doing physical activity or exercise during the past 30 days other than their regular job.\n",
        "14. GenHealth : Would you say that in general your health is...\n",
        "15. SleepTime : On average, how many hours of sleep do you get in a 24-hour period?\n",
        "16. Asthma : (Ever told) (you had) asthma?\n",
        "17. KidneyDisease : Not including kidney stones, bladder infection or incontinence, were you ever told you had kidney disease?\n",
        "18. SkinCancer : (Ever told) (you had) skin cancer?\n",
        "\n",
        "\n",
        "\n",
        "\n",
        "\n",
        "\n",
        "\n",
        "\n",
        "\n"
      ],
      "metadata": {
        "id": "YcoerhZqnnMW"
      }
    },
    {
      "cell_type": "markdown",
      "source": [
        "# <b>2 <span style='color:#0386f7de'>|</span> Importing libraries</b>"
      ],
      "metadata": {
        "id": "jwCu4A_hnnMX"
      }
    },
    {
      "cell_type": "code",
      "source": [
        "import pandas as pd\n",
        "import numpy as np\n",
        "\n",
        "\n",
        "%matplotlib inline\n",
        "import seaborn as sns\n",
        "import matplotlib.pyplot as plt\n",
        "\n",
        "import pandas as pd\n",
        "import matplotlib.pyplot as plt\n",
        "import seaborn as sns\n",
        "\n",
        "import matplotlib.pyplot as plt\n",
        "import seaborn as sns"
      ],
      "metadata": {
        "execution": {
          "iopub.status.busy": "2022-06-03T12:23:19.718082Z",
          "iopub.execute_input": "2022-06-03T12:23:19.718931Z",
          "iopub.status.idle": "2022-06-03T12:23:19.730377Z",
          "shell.execute_reply.started": "2022-06-03T12:23:19.718863Z",
          "shell.execute_reply": "2022-06-03T12:23:19.729868Z"
        },
        "trusted": true,
        "id": "ui2_2eNVnnMX"
      },
      "execution_count": null,
      "outputs": []
    },
    {
      "cell_type": "markdown",
      "source": [
        "# <b>3 <span style='color:#0386f7de'>|</span> Reading the dataset</b>"
      ],
      "metadata": {
        "id": "tl45dGr4nnMX"
      }
    },
    {
      "cell_type": "code",
      "source": [
        "df = pd.read_csv('https://raw.githubusercontent.com/FrancescaFati/SmartHospitals2024/main/heart_2020_cleaned.csv')\n",
        "df.head()"
      ],
      "metadata": {
        "execution": {
          "iopub.status.busy": "2022-06-03T12:23:19.788481Z",
          "iopub.execute_input": "2022-06-03T12:23:19.789163Z",
          "iopub.status.idle": "2022-06-03T12:23:20.518276Z",
          "shell.execute_reply.started": "2022-06-03T12:23:19.789124Z",
          "shell.execute_reply": "2022-06-03T12:23:20.517628Z"
        },
        "trusted": true,
        "id": "FTYPK3zgnnMY"
      },
      "execution_count": null,
      "outputs": []
    },
    {
      "cell_type": "markdown",
      "source": [
        "# <b>4 <span style='color:#0386f7de'>|</span> Data Visualization </b>"
      ],
      "metadata": {
        "id": "KkmrQLroJcZ-"
      }
    },
    {
      "cell_type": "code",
      "source": [
        "n_rows = 3\n",
        "n_cols = int(np.ceil(len(df.columns) / n_rows))\n",
        "fig, axes = plt.subplots(n_rows, n_cols, figsize=(5 * n_cols, 5 * n_rows))\n",
        "\n",
        "for i, column in enumerate(df.columns):\n",
        "    row = i // n_cols\n",
        "    col = i % n_cols\n",
        "    ax = axes[row, col]\n",
        "    df[column].hist(ax=ax)\n",
        "    ax.set_title(f'{column}')\n",
        "    ax.set_xlabel(column)\n",
        "    ax.set_ylabel('Frequency')\n",
        "plt.tight_layout()\n",
        "plt.show()"
      ],
      "metadata": {
        "id": "WCcTt7qWDLLg"
      },
      "execution_count": null,
      "outputs": []
    },
    {
      "cell_type": "code",
      "source": [
        "categorical_cols = df.select_dtypes(include=['object', 'category']).columns\n",
        "\n",
        "n_rows = 3\n",
        "n_cols = int(np.ceil(len(categorical_cols) / n_rows))\n",
        "fig, axes = plt.subplots(n_rows, n_cols, figsize=(5 * n_cols, 5 * n_rows), squeeze=False)\n",
        "\n",
        "for i, column in enumerate(categorical_cols):\n",
        "    row = i // n_cols\n",
        "    col = i % n_cols\n",
        "    ax = axes[row, col]\n",
        "    sns.countplot(data=df, x=column, palette='autumn', hue='HeartDisease', ax=ax)\n",
        "    ax.set_title(f'{column}')\n",
        "    ax.set_xlabel(column)\n",
        "    ax.set_ylabel('Count')\n",
        "\n",
        "plt.tight_layout()\n",
        "plt.show()\n",
        "\n"
      ],
      "metadata": {
        "id": "OoTIl1U-DpY6"
      },
      "execution_count": null,
      "outputs": []
    },
    {
      "cell_type": "code",
      "source": [
        "df =  df[df.columns].replace({'Yes':1, 'No':0, 'Male':1,'Female':0,'No, borderline diabetes':'0','Yes (during pregnancy)':'1' })\n",
        "df['Diabetic'] = df['Diabetic'].astype(int)\n",
        "\n",
        "fig, ax = plt.subplots(figsize = (13,6))\n",
        "\n",
        "ax.hist(df[df[\"HeartDisease\"]==1][\"Smoking\"], bins=15, alpha=0.5, color=\"red\", label=\"HeartDisease\")\n",
        "ax.hist(df[df[\"HeartDisease\"]==0][\"Smoking\"], bins=15, alpha=0.5, color=\"#fccc79\", label=\"Normal\")\n",
        "\n",
        "ax.set_xlabel(\"Smoking\")\n",
        "ax.set_ylabel(\"Frequency\")\n",
        "\n",
        "fig.suptitle(\"Distribution of Cases with Yes/No heartdisease according to being a smkoer or not.\")\n",
        "\n",
        "ax.legend();"
      ],
      "metadata": {
        "id": "amXvVY66Od-N"
      },
      "execution_count": null,
      "outputs": []
    },
    {
      "cell_type": "code",
      "source": [
        "# Setup the matplotlib figure with 2 rows and 2 columns\n",
        "fig, axes = plt.subplots(2, 2, figsize=(13, 10))\n",
        "\n",
        "ax = axes.ravel()\n",
        "\n",
        "# Plot 1: Distribution of BMI\n",
        "sns.kdeplot(df[df[\"HeartDisease\"]==1][\"BMI\"], alpha=0.5, fill=True, color=\"red\", label=\"HeartDisease\", ax=ax[0])\n",
        "sns.kdeplot(df[df[\"HeartDisease\"]==0][\"BMI\"], alpha=0.5, fill=True, color=\"#fccc79\", label=\"Normal\", ax=ax[0])\n",
        "ax[0].set_title('Distribution of Body Mass Index', fontsize=14)\n",
        "ax[0].set_xlabel(\"BodyMass\")\n",
        "ax[0].set_ylabel(\"Frequency\")\n",
        "ax[0].legend()\n",
        "\n",
        "# Plot 2: Distribution of SleepTime\n",
        "sns.kdeplot(df[df[\"HeartDisease\"]==1][\"SleepTime\"], alpha=0.5, fill=True, color=\"red\", label=\"HeartDisease\", ax=ax[1])\n",
        "sns.kdeplot(df[df[\"HeartDisease\"]==0][\"SleepTime\"], alpha=0.5, fill=True, color=\"#fccc79\", label=\"Normal\", ax=ax[1])\n",
        "ax[1].set_title('Distribution of SleepTime values', fontsize=14)\n",
        "ax[1].set_xlabel(\"SleepTime\")\n",
        "ax[1].set_ylabel(\"Frequency\")\n",
        "ax[1].legend()\n",
        "\n",
        "# Plot 3: Distribution of PhysicalHealth\n",
        "sns.kdeplot(df[df[\"HeartDisease\"]==1][\"PhysicalHealth\"], alpha=0.5, fill=True, color=\"red\", label=\"HeartDisease\", ax=ax[2])\n",
        "sns.kdeplot(df[df[\"HeartDisease\"]==0][\"PhysicalHealth\"], alpha=0.5, fill=True, color=\"#fccc79\", label=\"Normal\", ax=ax[2])\n",
        "ax[2].set_title('Distribution of PhysicalHealth state for the last 30 days', fontsize=14)\n",
        "ax[2].set_xlabel(\"PhysicalHealth\")\n",
        "ax[2].set_ylabel(\"Frequency\")\n",
        "ax[2].legend()\n",
        "\n",
        "# Plot 4: Distribution of MentalHealth\n",
        "sns.kdeplot(df[df[\"HeartDisease\"]==1][\"MentalHealth\"], alpha=0.5, fill=True, color=\"red\", label=\"HeartDisease\", ax=ax[3])\n",
        "sns.kdeplot(df[df[\"HeartDisease\"]==0][\"MentalHealth\"], alpha=0.5, fill=True, color=\"#fccc79\", label=\"Normal\", ax=ax[3])\n",
        "ax[3].set_title('Distribution of MentalHealth state for the last 30 days', fontsize=14)\n",
        "ax[3].set_xlabel(\"MentalHealth\")\n",
        "ax[3].set_ylabel(\"Frequency\")\n",
        "ax[3].legend()\n",
        "\n",
        "plt.tight_layout()\n",
        "plt.show()\n"
      ],
      "metadata": {
        "id": "veNvAIl7Wc-Y"
      },
      "execution_count": null,
      "outputs": []
    },
    {
      "cell_type": "code",
      "source": [
        "fig, ax = plt.subplots(figsize=(10, 6))  # You can adjust the size as needed\n",
        "\n",
        "# Create the scatter plot\n",
        "sns.scatterplot(data=df, x='BMI', y='PhysicalHealth', hue='HeartDisease', ax=ax)\n",
        "\n",
        "ax.set_title('BMI vs PhysicalHealth ')\n",
        "ax.set_xlabel('BMI')\n",
        "ax.set_ylabel('PhysicalHealth')\n",
        "ax.legend(title='Heart Disease')\n",
        "\n",
        "plt.tight_layout()\n",
        "plt.show()"
      ],
      "metadata": {
        "id": "OK9m2mR6SkJ2"
      },
      "execution_count": null,
      "outputs": []
    },
    {
      "cell_type": "code",
      "source": [
        "fig, ax = plt.subplots(figsize=(10, 6))  # You can adjust the size as needed\n",
        "\n",
        "# Create the scatter plot\n",
        "sns.scatterplot(data=df, x='AgeCategory', y='PhysicalHealth', hue='HeartDisease', ax=ax)\n",
        "\n",
        "ax.set_title('AgeCategory vs PhysicalHealth')\n",
        "ax.set_xlabel('AgeCategory')\n",
        "ax.set_ylabel('PhysicalHealth')\n",
        "ax.legend(title='Heart Disease')\n",
        "\n",
        "plt.tight_layout()\n",
        "plt.show()"
      ],
      "metadata": {
        "id": "SixvTjnsI-PP"
      },
      "execution_count": null,
      "outputs": []
    }
  ]
}