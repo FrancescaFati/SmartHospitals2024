{
  "metadata": {
    "kernelspec": {
      "language": "python",
      "display_name": "Python 3",
      "name": "python3"
    },
    "language_info": {
      "pygments_lexer": "ipython3",
      "nbconvert_exporter": "python",
      "version": "3.6.4",
      "file_extension": ".py",
      "codemirror_mode": {
        "name": "ipython",
        "version": 3
      },
      "name": "python",
      "mimetype": "text/x-python"
    },
    "colab": {
      "provenance": []
    }
  },
  "nbformat_minor": 0,
  "nbformat": 4,
  "cells": [
    {
      "cell_type": "markdown",
      "source": [
        "# <b>1 <span style='color:#0386f7de'>|</span> Importing libraries</b>"
      ],
      "metadata": {
        "id": "jwCu4A_hnnMX"
      }
    },
    {
      "cell_type": "code",
      "source": [
        "import pandas as pd\n",
        "import numpy as np\n",
        "\n",
        "\n",
        "%matplotlib inline\n",
        "import seaborn as sns\n",
        "import matplotlib.pyplot as plt\n"
      ],
      "metadata": {
        "execution": {
          "iopub.status.busy": "2022-06-03T12:23:19.718082Z",
          "iopub.execute_input": "2022-06-03T12:23:19.718931Z",
          "iopub.status.idle": "2022-06-03T12:23:19.730377Z",
          "shell.execute_reply.started": "2022-06-03T12:23:19.718863Z",
          "shell.execute_reply": "2022-06-03T12:23:19.729868Z"
        },
        "trusted": true,
        "id": "ui2_2eNVnnMX"
      },
      "execution_count": null,
      "outputs": []
    },
    {
      "cell_type": "markdown",
      "source": [
        "# <b>2 <span style='color:#0386f7de'>|</span> Reading the dataset</b>"
      ],
      "metadata": {
        "id": "tl45dGr4nnMX"
      }
    },
    {
      "cell_type": "code",
      "source": [
        "df = pd.read_csv('https://raw.githubusercontent.com/FrancescaFati/SmartHospitals2024/main/heart_2020_cleaned.csv')\n",
        "df.head()"
      ],
      "metadata": {
        "execution": {
          "iopub.status.busy": "2022-06-03T12:23:19.788481Z",
          "iopub.execute_input": "2022-06-03T12:23:19.789163Z",
          "iopub.status.idle": "2022-06-03T12:23:20.518276Z",
          "shell.execute_reply.started": "2022-06-03T12:23:19.789124Z",
          "shell.execute_reply": "2022-06-03T12:23:20.517628Z"
        },
        "trusted": true,
        "id": "FTYPK3zgnnMY"
      },
      "execution_count": null,
      "outputs": []
    },
    {
      "cell_type": "code",
      "source": [
        "df.shape"
      ],
      "metadata": {
        "id": "iXjJE1KPBgq5"
      },
      "execution_count": null,
      "outputs": []
    },
    {
      "cell_type": "markdown",
      "source": [
        "# <b>3 <span style='color:#0386f7de'>|</span> Data Augmentation </b>"
      ],
      "metadata": {
        "id": "9d9AZKqzR6qG"
      }
    },
    {
      "cell_type": "code",
      "source": [
        "# Adding random noise to numeric columns\n",
        "for col in df.select_dtypes(include=[np.number]).columns:\n",
        "    noise = np.random.normal(loc=0, scale=0.01, size=df[col].shape)\n",
        "    df[col] += noise"
      ],
      "metadata": {
        "id": "y9e0zKiZR_WX"
      },
      "execution_count": null,
      "outputs": []
    },
    {
      "cell_type": "code",
      "source": [
        "# Creating new features\n",
        "df['new_feature'] = df['BMI'] * df['SleepTime'] # Example of creating an interaction feature"
      ],
      "metadata": {
        "id": "VAoR3M7DTqT0"
      },
      "execution_count": null,
      "outputs": []
    },
    {
      "cell_type": "code",
      "source": [
        "df.head(10)"
      ],
      "metadata": {
        "id": "9dy7cA7GB0nU"
      },
      "execution_count": null,
      "outputs": []
    }
  ]
}